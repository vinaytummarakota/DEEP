{
 "cells": [
  {
   "cell_type": "markdown",
   "metadata": {},
   "source": [
    "# How does job access affect the percentage of transit ridership and transportation costs?"
   ]
  },
  {
   "cell_type": "code",
   "execution_count": 3,
   "metadata": {},
   "outputs": [],
   "source": [
    "import pandas as pd\n",
    "import numpy as np\n",
    "import matplotlib.pyplot as plt"
   ]
  },
  {
   "cell_type": "code",
   "execution_count": 4,
   "metadata": {},
   "outputs": [
    {
     "data": {
      "text/html": [
       "<div>\n",
       "<style scoped>\n",
       "    .dataframe tbody tr th:only-of-type {\n",
       "        vertical-align: middle;\n",
       "    }\n",
       "\n",
       "    .dataframe tbody tr th {\n",
       "        vertical-align: top;\n",
       "    }\n",
       "\n",
       "    .dataframe thead th {\n",
       "        text-align: right;\n",
       "    }\n",
       "</style>\n",
       "<table border=\"1\" class=\"dataframe\">\n",
       "  <thead>\n",
       "    <tr style=\"text-align: right;\">\n",
       "      <th></th>\n",
       "      <th>tract</th>\n",
       "      <th>cbsa</th>\n",
       "      <th>blkgrps</th>\n",
       "      <th>population</th>\n",
       "      <th>households</th>\n",
       "      <th>land_acres</th>\n",
       "      <th>ht_ami</th>\n",
       "      <th>ht_80ami</th>\n",
       "      <th>ht_nmi</th>\n",
       "      <th>h_ami</th>\n",
       "      <th>...</th>\n",
       "      <th>emp_gravity</th>\n",
       "      <th>emp_ndx</th>\n",
       "      <th>block_size</th>\n",
       "      <th>intersection_density</th>\n",
       "      <th>avg_block_perimeter_meters</th>\n",
       "      <th>h_cost</th>\n",
       "      <th>median_smoc</th>\n",
       "      <th>median_gross_rent</th>\n",
       "      <th>pct_owner_occupied_hu</th>\n",
       "      <th>pct_renter_occupied_hu</th>\n",
       "    </tr>\n",
       "  </thead>\n",
       "  <tbody>\n",
       "    <tr>\n",
       "      <th>0</th>\n",
       "      <td>\"48001950100\"</td>\n",
       "      <td>\"Palestine, TX\"</td>\n",
       "      <td>3.0</td>\n",
       "      <td>4782.0</td>\n",
       "      <td>1784.0</td>\n",
       "      <td>119427.88</td>\n",
       "      <td>65.0</td>\n",
       "      <td>77.0</td>\n",
       "      <td>52.0</td>\n",
       "      <td>30.0</td>\n",
       "      <td>...</td>\n",
       "      <td>1277.0</td>\n",
       "      <td>81.0</td>\n",
       "      <td>252.0</td>\n",
       "      <td>6.0</td>\n",
       "      <td>4035</td>\n",
       "      <td>1047.0</td>\n",
       "      <td>1085.0</td>\n",
       "      <td>785.0</td>\n",
       "      <td>83.0</td>\n",
       "      <td>17.0</td>\n",
       "    </tr>\n",
       "    <tr>\n",
       "      <th>1</th>\n",
       "      <td>\"48001950401\"</td>\n",
       "      <td>\"Palestine, TX\"</td>\n",
       "      <td>1.0</td>\n",
       "      <td>5166.0</td>\n",
       "      <td>99.0</td>\n",
       "      <td>4089.55</td>\n",
       "      <td>43.0</td>\n",
       "      <td>50.0</td>\n",
       "      <td>35.0</td>\n",
       "      <td>17.0</td>\n",
       "      <td>...</td>\n",
       "      <td>1119.0</td>\n",
       "      <td>80.0</td>\n",
       "      <td>100.0</td>\n",
       "      <td>5.0</td>\n",
       "      <td>2419</td>\n",
       "      <td>576.0</td>\n",
       "      <td>NaN</td>\n",
       "      <td>576.0</td>\n",
       "      <td>13.0</td>\n",
       "      <td>87.0</td>\n",
       "    </tr>\n",
       "    <tr>\n",
       "      <th>2</th>\n",
       "      <td>\"48001950402\"</td>\n",
       "      <td>\"Palestine, TX\"</td>\n",
       "      <td>1.0</td>\n",
       "      <td>6802.0</td>\n",
       "      <td>53.0</td>\n",
       "      <td>17908.21</td>\n",
       "      <td>56.0</td>\n",
       "      <td>66.0</td>\n",
       "      <td>45.0</td>\n",
       "      <td>31.0</td>\n",
       "      <td>...</td>\n",
       "      <td>1063.0</td>\n",
       "      <td>80.0</td>\n",
       "      <td>179.0</td>\n",
       "      <td>3.0</td>\n",
       "      <td>4171</td>\n",
       "      <td>1053.0</td>\n",
       "      <td>NaN</td>\n",
       "      <td>1053.0</td>\n",
       "      <td>9.0</td>\n",
       "      <td>91.0</td>\n",
       "    </tr>\n",
       "    <tr>\n",
       "      <th>3</th>\n",
       "      <td>\"48001950500\"</td>\n",
       "      <td>\"Palestine, TX\"</td>\n",
       "      <td>4.0</td>\n",
       "      <td>4587.0</td>\n",
       "      <td>1492.0</td>\n",
       "      <td>5693.29</td>\n",
       "      <td>53.0</td>\n",
       "      <td>62.0</td>\n",
       "      <td>43.0</td>\n",
       "      <td>24.0</td>\n",
       "      <td>...</td>\n",
       "      <td>3118.0</td>\n",
       "      <td>82.0</td>\n",
       "      <td>23.0</td>\n",
       "      <td>53.0</td>\n",
       "      <td>1212</td>\n",
       "      <td>834.0</td>\n",
       "      <td>917.0</td>\n",
       "      <td>373.0</td>\n",
       "      <td>61.0</td>\n",
       "      <td>39.0</td>\n",
       "    </tr>\n",
       "    <tr>\n",
       "      <th>4</th>\n",
       "      <td>\"48001950600\"</td>\n",
       "      <td>\"Palestine, TX\"</td>\n",
       "      <td>4.0</td>\n",
       "      <td>6658.0</td>\n",
       "      <td>2236.0</td>\n",
       "      <td>5103.13</td>\n",
       "      <td>55.0</td>\n",
       "      <td>64.0</td>\n",
       "      <td>44.0</td>\n",
       "      <td>25.0</td>\n",
       "      <td>...</td>\n",
       "      <td>3465.0</td>\n",
       "      <td>83.0</td>\n",
       "      <td>24.0</td>\n",
       "      <td>65.0</td>\n",
       "      <td>1174</td>\n",
       "      <td>857.0</td>\n",
       "      <td>933.0</td>\n",
       "      <td>750.0</td>\n",
       "      <td>62.0</td>\n",
       "      <td>38.0</td>\n",
       "    </tr>\n",
       "    <tr>\n",
       "      <th>...</th>\n",
       "      <td>...</td>\n",
       "      <td>...</td>\n",
       "      <td>...</td>\n",
       "      <td>...</td>\n",
       "      <td>...</td>\n",
       "      <td>...</td>\n",
       "      <td>...</td>\n",
       "      <td>...</td>\n",
       "      <td>...</td>\n",
       "      <td>...</td>\n",
       "      <td>...</td>\n",
       "      <td>...</td>\n",
       "      <td>...</td>\n",
       "      <td>...</td>\n",
       "      <td>...</td>\n",
       "      <td>...</td>\n",
       "      <td>...</td>\n",
       "      <td>...</td>\n",
       "      <td>...</td>\n",
       "      <td>...</td>\n",
       "      <td>...</td>\n",
       "    </tr>\n",
       "    <tr>\n",
       "      <th>5248</th>\n",
       "      <td>\"48505950400\"</td>\n",
       "      <td>\"Zapata, TX\"</td>\n",
       "      <td>4.0</td>\n",
       "      <td>5979.0</td>\n",
       "      <td>1745.0</td>\n",
       "      <td>630786.51</td>\n",
       "      <td>68.0</td>\n",
       "      <td>82.0</td>\n",
       "      <td>42.0</td>\n",
       "      <td>37.0</td>\n",
       "      <td>...</td>\n",
       "      <td>660.0</td>\n",
       "      <td>75.0</td>\n",
       "      <td>303.0</td>\n",
       "      <td>3.0</td>\n",
       "      <td>5331</td>\n",
       "      <td>983.0</td>\n",
       "      <td>1147.0</td>\n",
       "      <td>435.0</td>\n",
       "      <td>77.0</td>\n",
       "      <td>23.0</td>\n",
       "    </tr>\n",
       "    <tr>\n",
       "      <th>5249</th>\n",
       "      <td>\"48507950100\"</td>\n",
       "      <td>\"\"</td>\n",
       "      <td>1.0</td>\n",
       "      <td>1167.0</td>\n",
       "      <td>404.0</td>\n",
       "      <td>275327.07</td>\n",
       "      <td>80.0</td>\n",
       "      <td>96.0</td>\n",
       "      <td>42.0</td>\n",
       "      <td>27.0</td>\n",
       "      <td>...</td>\n",
       "      <td>493.0</td>\n",
       "      <td>77.0</td>\n",
       "      <td>355.0</td>\n",
       "      <td>4.0</td>\n",
       "      <td>4491</td>\n",
       "      <td>593.0</td>\n",
       "      <td>621.0</td>\n",
       "      <td>474.0</td>\n",
       "      <td>81.0</td>\n",
       "      <td>19.0</td>\n",
       "    </tr>\n",
       "    <tr>\n",
       "      <th>5250</th>\n",
       "      <td>\"48507950200\"</td>\n",
       "      <td>\"\"</td>\n",
       "      <td>1.0</td>\n",
       "      <td>1939.0</td>\n",
       "      <td>567.0</td>\n",
       "      <td>145983.56</td>\n",
       "      <td>86.0</td>\n",
       "      <td>102.0</td>\n",
       "      <td>45.0</td>\n",
       "      <td>34.0</td>\n",
       "      <td>...</td>\n",
       "      <td>420.0</td>\n",
       "      <td>76.0</td>\n",
       "      <td>246.0</td>\n",
       "      <td>4.0</td>\n",
       "      <td>3408</td>\n",
       "      <td>751.0</td>\n",
       "      <td>819.0</td>\n",
       "      <td>511.0</td>\n",
       "      <td>78.0</td>\n",
       "      <td>22.0</td>\n",
       "    </tr>\n",
       "    <tr>\n",
       "      <th>5251</th>\n",
       "      <td>\"48507950301\"</td>\n",
       "      <td>\"\"</td>\n",
       "      <td>2.0</td>\n",
       "      <td>2129.0</td>\n",
       "      <td>671.0</td>\n",
       "      <td>404217.35</td>\n",
       "      <td>50.0</td>\n",
       "      <td>59.0</td>\n",
       "      <td>27.0</td>\n",
       "      <td>16.0</td>\n",
       "      <td>...</td>\n",
       "      <td>1252.0</td>\n",
       "      <td>79.0</td>\n",
       "      <td>123.0</td>\n",
       "      <td>3.0</td>\n",
       "      <td>5008</td>\n",
       "      <td>351.0</td>\n",
       "      <td>NaN</td>\n",
       "      <td>351.0</td>\n",
       "      <td>45.0</td>\n",
       "      <td>55.0</td>\n",
       "    </tr>\n",
       "    <tr>\n",
       "      <th>5252</th>\n",
       "      <td>\"48507950302\"</td>\n",
       "      <td>\"\"</td>\n",
       "      <td>5.0</td>\n",
       "      <td>6825.0</td>\n",
       "      <td>1985.0</td>\n",
       "      <td>4811.68</td>\n",
       "      <td>65.0</td>\n",
       "      <td>77.0</td>\n",
       "      <td>34.0</td>\n",
       "      <td>26.0</td>\n",
       "      <td>...</td>\n",
       "      <td>1965.0</td>\n",
       "      <td>81.0</td>\n",
       "      <td>15.0</td>\n",
       "      <td>68.0</td>\n",
       "      <td>1188</td>\n",
       "      <td>583.0</td>\n",
       "      <td>436.0</td>\n",
       "      <td>381.0</td>\n",
       "      <td>70.0</td>\n",
       "      <td>30.0</td>\n",
       "    </tr>\n",
       "  </tbody>\n",
       "</table>\n",
       "<p>5253 rows × 57 columns</p>\n",
       "</div>"
      ],
      "text/plain": [
       "              tract             cbsa  blkgrps  population  households  \\\n",
       "0     \"48001950100\"  \"Palestine, TX\"      3.0      4782.0      1784.0   \n",
       "1     \"48001950401\"  \"Palestine, TX\"      1.0      5166.0        99.0   \n",
       "2     \"48001950402\"  \"Palestine, TX\"      1.0      6802.0        53.0   \n",
       "3     \"48001950500\"  \"Palestine, TX\"      4.0      4587.0      1492.0   \n",
       "4     \"48001950600\"  \"Palestine, TX\"      4.0      6658.0      2236.0   \n",
       "...             ...              ...      ...         ...         ...   \n",
       "5248  \"48505950400\"     \"Zapata, TX\"      4.0      5979.0      1745.0   \n",
       "5249  \"48507950100\"               \"\"      1.0      1167.0       404.0   \n",
       "5250  \"48507950200\"               \"\"      1.0      1939.0       567.0   \n",
       "5251  \"48507950301\"               \"\"      2.0      2129.0       671.0   \n",
       "5252  \"48507950302\"               \"\"      5.0      6825.0      1985.0   \n",
       "\n",
       "      land_acres  ht_ami  ht_80ami  ht_nmi  h_ami  ...  emp_gravity  emp_ndx  \\\n",
       "0      119427.88    65.0      77.0    52.0   30.0  ...       1277.0     81.0   \n",
       "1        4089.55    43.0      50.0    35.0   17.0  ...       1119.0     80.0   \n",
       "2       17908.21    56.0      66.0    45.0   31.0  ...       1063.0     80.0   \n",
       "3        5693.29    53.0      62.0    43.0   24.0  ...       3118.0     82.0   \n",
       "4        5103.13    55.0      64.0    44.0   25.0  ...       3465.0     83.0   \n",
       "...          ...     ...       ...     ...    ...  ...          ...      ...   \n",
       "5248   630786.51    68.0      82.0    42.0   37.0  ...        660.0     75.0   \n",
       "5249   275327.07    80.0      96.0    42.0   27.0  ...        493.0     77.0   \n",
       "5250   145983.56    86.0     102.0    45.0   34.0  ...        420.0     76.0   \n",
       "5251   404217.35    50.0      59.0    27.0   16.0  ...       1252.0     79.0   \n",
       "5252     4811.68    65.0      77.0    34.0   26.0  ...       1965.0     81.0   \n",
       "\n",
       "      block_size  intersection_density  avg_block_perimeter_meters  h_cost  \\\n",
       "0          252.0                   6.0                        4035  1047.0   \n",
       "1          100.0                   5.0                        2419   576.0   \n",
       "2          179.0                   3.0                        4171  1053.0   \n",
       "3           23.0                  53.0                        1212   834.0   \n",
       "4           24.0                  65.0                        1174   857.0   \n",
       "...          ...                   ...                         ...     ...   \n",
       "5248       303.0                   3.0                        5331   983.0   \n",
       "5249       355.0                   4.0                        4491   593.0   \n",
       "5250       246.0                   4.0                        3408   751.0   \n",
       "5251       123.0                   3.0                        5008   351.0   \n",
       "5252        15.0                  68.0                        1188   583.0   \n",
       "\n",
       "      median_smoc  median_gross_rent  pct_owner_occupied_hu  \\\n",
       "0          1085.0              785.0                   83.0   \n",
       "1             NaN              576.0                   13.0   \n",
       "2             NaN             1053.0                    9.0   \n",
       "3           917.0              373.0                   61.0   \n",
       "4           933.0              750.0                   62.0   \n",
       "...           ...                ...                    ...   \n",
       "5248       1147.0              435.0                   77.0   \n",
       "5249        621.0              474.0                   81.0   \n",
       "5250        819.0              511.0                   78.0   \n",
       "5251          NaN              351.0                   45.0   \n",
       "5252        436.0              381.0                   70.0   \n",
       "\n",
       "      pct_renter_occupied_hu  \n",
       "0                       17.0  \n",
       "1                       87.0  \n",
       "2                       91.0  \n",
       "3                       39.0  \n",
       "4                       38.0  \n",
       "...                      ...  \n",
       "5248                    23.0  \n",
       "5249                    19.0  \n",
       "5250                    22.0  \n",
       "5251                    55.0  \n",
       "5252                    30.0  \n",
       "\n",
       "[5253 rows x 57 columns]"
      ]
     },
     "execution_count": 4,
     "metadata": {},
     "output_type": "execute_result"
    }
   ],
   "source": [
    "tact = pd.read_csv('texas_affordability_census_tract.csv')\n",
    "tact"
   ]
  },
  {
   "cell_type": "code",
   "execution_count": 7,
   "metadata": {},
   "outputs": [
    {
     "data": {
      "text/plain": [
       "Index(['tract', 'cbsa', 'blkgrps', 'population', 'households', 'land_acres',\n",
       "       'ht_ami', 'ht_80ami', 'ht_nmi', 'h_ami', 'h_80ami', 'h_nmi', 't_ami',\n",
       "       't_80ami', 't_nmi', 'co2_per_hh_local', 'co2_per_acre_local',\n",
       "       'autos_per_hh_ami', 'autos_per_hh_80ami', 'autos_per_hh_nmi',\n",
       "       'vmt_per_hh_ami', 'vmt_per_hh_80ami', 'vmt_per_hh_nmi',\n",
       "       'pct_transit_commuters_ami', 'pct_transit_commuters_80ami',\n",
       "       'pct_transit_commuters_nmi', 't_cost_ami', 't_cost_80ami', 't_cost_nmi',\n",
       "       'auto_ownership_cost_ami', 'auto_ownership_cost_80ami',\n",
       "       'auto_ownership_cost_nmi', 'vmt_cost_ami', 'vmt_cost_80ami',\n",
       "       'vmt_cost_nmi', 'transit_cost_ami', 'transit_cost_80ami',\n",
       "       'transit_cost_nmi', 'transit_trips_ami', 'transit_trips_80ami',\n",
       "       'transit_trips_nmi', 'compact_ndx', 'emp_ovrll_ndx', 'res_density',\n",
       "       'gross_hh_density', 'hh_gravity', 'frac_sfd', 'emp_gravity', 'emp_ndx',\n",
       "       'block_size', 'intersection_density', 'avg_block_perimeter_meters',\n",
       "       'h_cost', 'median_smoc', 'median_gross_rent', 'pct_owner_occupied_hu',\n",
       "       'pct_renter_occupied_hu'],\n",
       "      dtype='object')"
      ]
     },
     "execution_count": 7,
     "metadata": {},
     "output_type": "execute_result"
    }
   ],
   "source": [
    "tact.columns"
   ]
  },
  {
   "cell_type": "code",
   "execution_count": 16,
   "metadata": {},
   "outputs": [
    {
     "data": {
      "text/html": [
       "<div>\n",
       "<style scoped>\n",
       "    .dataframe tbody tr th:only-of-type {\n",
       "        vertical-align: middle;\n",
       "    }\n",
       "\n",
       "    .dataframe tbody tr th {\n",
       "        vertical-align: top;\n",
       "    }\n",
       "\n",
       "    .dataframe thead th {\n",
       "        text-align: right;\n",
       "    }\n",
       "</style>\n",
       "<table border=\"1\" class=\"dataframe\">\n",
       "  <thead>\n",
       "    <tr style=\"text-align: right;\">\n",
       "      <th></th>\n",
       "      <th>emp_ovrll_ndx</th>\n",
       "      <th>pct_transit_commuters_ami</th>\n",
       "      <th>pct_transit_commuters_80ami</th>\n",
       "      <th>pct_transit_commuters_nmi</th>\n",
       "      <th>t_cost_ami</th>\n",
       "      <th>t_cost_80ami</th>\n",
       "      <th>t_cost_nmi</th>\n",
       "    </tr>\n",
       "  </thead>\n",
       "  <tbody>\n",
       "    <tr>\n",
       "      <th>0</th>\n",
       "      <td>0.6</td>\n",
       "      <td>0.0</td>\n",
       "      <td>0.0</td>\n",
       "      <td>0.0</td>\n",
       "      <td>14453.0</td>\n",
       "      <td>12775.0</td>\n",
       "      <td>15374.0</td>\n",
       "    </tr>\n",
       "    <tr>\n",
       "      <th>1</th>\n",
       "      <td>1.8</td>\n",
       "      <td>2.0</td>\n",
       "      <td>3.0</td>\n",
       "      <td>2.0</td>\n",
       "      <td>10711.0</td>\n",
       "      <td>9518.0</td>\n",
       "      <td>11796.0</td>\n",
       "    </tr>\n",
       "    <tr>\n",
       "      <th>2</th>\n",
       "      <td>1.1</td>\n",
       "      <td>3.0</td>\n",
       "      <td>3.0</td>\n",
       "      <td>2.0</td>\n",
       "      <td>10433.0</td>\n",
       "      <td>9291.0</td>\n",
       "      <td>11490.0</td>\n",
       "    </tr>\n",
       "    <tr>\n",
       "      <th>3</th>\n",
       "      <td>4.5</td>\n",
       "      <td>1.0</td>\n",
       "      <td>1.0</td>\n",
       "      <td>0.0</td>\n",
       "      <td>12012.0</td>\n",
       "      <td>10481.0</td>\n",
       "      <td>13064.0</td>\n",
       "    </tr>\n",
       "    <tr>\n",
       "      <th>4</th>\n",
       "      <td>3.7</td>\n",
       "      <td>0.0</td>\n",
       "      <td>0.0</td>\n",
       "      <td>0.0</td>\n",
       "      <td>12285.0</td>\n",
       "      <td>10734.0</td>\n",
       "      <td>13340.0</td>\n",
       "    </tr>\n",
       "    <tr>\n",
       "      <th>...</th>\n",
       "      <td>...</td>\n",
       "      <td>...</td>\n",
       "      <td>...</td>\n",
       "      <td>...</td>\n",
       "      <td>...</td>\n",
       "      <td>...</td>\n",
       "      <td>...</td>\n",
       "    </tr>\n",
       "    <tr>\n",
       "      <th>5248</th>\n",
       "      <td>5.2</td>\n",
       "      <td>2.0</td>\n",
       "      <td>3.0</td>\n",
       "      <td>3.0</td>\n",
       "      <td>13057.0</td>\n",
       "      <td>11983.0</td>\n",
       "      <td>14167.0</td>\n",
       "    </tr>\n",
       "    <tr>\n",
       "      <th>5249</th>\n",
       "      <td>0.8</td>\n",
       "      <td>1.0</td>\n",
       "      <td>2.0</td>\n",
       "      <td>2.0</td>\n",
       "      <td>14312.0</td>\n",
       "      <td>13283.0</td>\n",
       "      <td>15711.0</td>\n",
       "    </tr>\n",
       "    <tr>\n",
       "      <th>5250</th>\n",
       "      <td>1.1</td>\n",
       "      <td>2.0</td>\n",
       "      <td>2.0</td>\n",
       "      <td>2.0</td>\n",
       "      <td>13807.0</td>\n",
       "      <td>12773.0</td>\n",
       "      <td>15188.0</td>\n",
       "    </tr>\n",
       "    <tr>\n",
       "      <th>5251</th>\n",
       "      <td>3.4</td>\n",
       "      <td>2.0</td>\n",
       "      <td>2.0</td>\n",
       "      <td>2.0</td>\n",
       "      <td>11319.0</td>\n",
       "      <td>10380.0</td>\n",
       "      <td>12767.0</td>\n",
       "    </tr>\n",
       "    <tr>\n",
       "      <th>5252</th>\n",
       "      <td>3.2</td>\n",
       "      <td>1.0</td>\n",
       "      <td>1.0</td>\n",
       "      <td>1.0</td>\n",
       "      <td>11770.0</td>\n",
       "      <td>10615.0</td>\n",
       "      <td>13085.0</td>\n",
       "    </tr>\n",
       "  </tbody>\n",
       "</table>\n",
       "<p>5253 rows × 7 columns</p>\n",
       "</div>"
      ],
      "text/plain": [
       "      emp_ovrll_ndx  pct_transit_commuters_ami  pct_transit_commuters_80ami  \\\n",
       "0               0.6                        0.0                          0.0   \n",
       "1               1.8                        2.0                          3.0   \n",
       "2               1.1                        3.0                          3.0   \n",
       "3               4.5                        1.0                          1.0   \n",
       "4               3.7                        0.0                          0.0   \n",
       "...             ...                        ...                          ...   \n",
       "5248            5.2                        2.0                          3.0   \n",
       "5249            0.8                        1.0                          2.0   \n",
       "5250            1.1                        2.0                          2.0   \n",
       "5251            3.4                        2.0                          2.0   \n",
       "5252            3.2                        1.0                          1.0   \n",
       "\n",
       "      pct_transit_commuters_nmi  t_cost_ami  t_cost_80ami  t_cost_nmi  \n",
       "0                           0.0     14453.0       12775.0     15374.0  \n",
       "1                           2.0     10711.0        9518.0     11796.0  \n",
       "2                           2.0     10433.0        9291.0     11490.0  \n",
       "3                           0.0     12012.0       10481.0     13064.0  \n",
       "4                           0.0     12285.0       10734.0     13340.0  \n",
       "...                         ...         ...           ...         ...  \n",
       "5248                        3.0     13057.0       11983.0     14167.0  \n",
       "5249                        2.0     14312.0       13283.0     15711.0  \n",
       "5250                        2.0     13807.0       12773.0     15188.0  \n",
       "5251                        2.0     11319.0       10380.0     12767.0  \n",
       "5252                        1.0     11770.0       10615.0     13085.0  \n",
       "\n",
       "[5253 rows x 7 columns]"
      ]
     },
     "execution_count": 16,
     "metadata": {},
     "output_type": "execute_result"
    }
   ],
   "source": [
    "df = tact[['emp_ovrll_ndx', 'pct_transit_commuters_ami', 'pct_transit_commuters_80ami', 'pct_transit_commuters_nmi', 't_cost_ami', 't_cost_80ami', 't_cost_nmi']]\n",
    "df"
   ]
  },
  {
   "cell_type": "code",
   "execution_count": 17,
   "metadata": {
    "scrolled": true
   },
   "outputs": [
    {
     "data": {
      "text/html": [
       "<div>\n",
       "<style scoped>\n",
       "    .dataframe tbody tr th:only-of-type {\n",
       "        vertical-align: middle;\n",
       "    }\n",
       "\n",
       "    .dataframe tbody tr th {\n",
       "        vertical-align: top;\n",
       "    }\n",
       "\n",
       "    .dataframe thead th {\n",
       "        text-align: right;\n",
       "    }\n",
       "</style>\n",
       "<table border=\"1\" class=\"dataframe\">\n",
       "  <thead>\n",
       "    <tr style=\"text-align: right;\">\n",
       "      <th></th>\n",
       "      <th>emp_ovrll_ndx</th>\n",
       "      <th>pct_transit_commuters_ami</th>\n",
       "      <th>pct_transit_commuters_80ami</th>\n",
       "      <th>pct_transit_commuters_nmi</th>\n",
       "      <th>t_cost_ami</th>\n",
       "      <th>t_cost_80ami</th>\n",
       "      <th>t_cost_nmi</th>\n",
       "    </tr>\n",
       "  </thead>\n",
       "  <tbody>\n",
       "    <tr>\n",
       "      <th>count</th>\n",
       "      <td>5213.000000</td>\n",
       "      <td>5212.000000</td>\n",
       "      <td>5212.000000</td>\n",
       "      <td>5213.000000</td>\n",
       "      <td>5212.000000</td>\n",
       "      <td>5212.000000</td>\n",
       "      <td>5213.000000</td>\n",
       "    </tr>\n",
       "    <tr>\n",
       "      <th>mean</th>\n",
       "      <td>4.096566</td>\n",
       "      <td>2.620299</td>\n",
       "      <td>2.514006</td>\n",
       "      <td>2.587761</td>\n",
       "      <td>13022.180737</td>\n",
       "      <td>11585.410591</td>\n",
       "      <td>12780.398043</td>\n",
       "    </tr>\n",
       "    <tr>\n",
       "      <th>std</th>\n",
       "      <td>2.272251</td>\n",
       "      <td>3.666839</td>\n",
       "      <td>3.538314</td>\n",
       "      <td>3.639267</td>\n",
       "      <td>1517.436648</td>\n",
       "      <td>1460.845817</td>\n",
       "      <td>1617.609278</td>\n",
       "    </tr>\n",
       "    <tr>\n",
       "      <th>min</th>\n",
       "      <td>0.000000</td>\n",
       "      <td>0.000000</td>\n",
       "      <td>0.000000</td>\n",
       "      <td>0.000000</td>\n",
       "      <td>7895.000000</td>\n",
       "      <td>6970.000000</td>\n",
       "      <td>7477.000000</td>\n",
       "    </tr>\n",
       "    <tr>\n",
       "      <th>25%</th>\n",
       "      <td>2.100000</td>\n",
       "      <td>0.000000</td>\n",
       "      <td>0.000000</td>\n",
       "      <td>0.000000</td>\n",
       "      <td>12016.250000</td>\n",
       "      <td>10592.750000</td>\n",
       "      <td>11763.000000</td>\n",
       "    </tr>\n",
       "    <tr>\n",
       "      <th>50%</th>\n",
       "      <td>4.200000</td>\n",
       "      <td>1.000000</td>\n",
       "      <td>1.000000</td>\n",
       "      <td>1.000000</td>\n",
       "      <td>13092.500000</td>\n",
       "      <td>11642.000000</td>\n",
       "      <td>12843.000000</td>\n",
       "    </tr>\n",
       "    <tr>\n",
       "      <th>75%</th>\n",
       "      <td>5.900000</td>\n",
       "      <td>4.000000</td>\n",
       "      <td>4.000000</td>\n",
       "      <td>4.000000</td>\n",
       "      <td>14104.250000</td>\n",
       "      <td>12654.000000</td>\n",
       "      <td>13939.000000</td>\n",
       "    </tr>\n",
       "    <tr>\n",
       "      <th>max</th>\n",
       "      <td>9.800000</td>\n",
       "      <td>28.000000</td>\n",
       "      <td>26.000000</td>\n",
       "      <td>27.000000</td>\n",
       "      <td>17974.000000</td>\n",
       "      <td>16733.000000</td>\n",
       "      <td>17632.000000</td>\n",
       "    </tr>\n",
       "  </tbody>\n",
       "</table>\n",
       "</div>"
      ],
      "text/plain": [
       "       emp_ovrll_ndx  pct_transit_commuters_ami  pct_transit_commuters_80ami  \\\n",
       "count    5213.000000                5212.000000                  5212.000000   \n",
       "mean        4.096566                   2.620299                     2.514006   \n",
       "std         2.272251                   3.666839                     3.538314   \n",
       "min         0.000000                   0.000000                     0.000000   \n",
       "25%         2.100000                   0.000000                     0.000000   \n",
       "50%         4.200000                   1.000000                     1.000000   \n",
       "75%         5.900000                   4.000000                     4.000000   \n",
       "max         9.800000                  28.000000                    26.000000   \n",
       "\n",
       "       pct_transit_commuters_nmi    t_cost_ami  t_cost_80ami    t_cost_nmi  \n",
       "count                5213.000000   5212.000000   5212.000000   5213.000000  \n",
       "mean                    2.587761  13022.180737  11585.410591  12780.398043  \n",
       "std                     3.639267   1517.436648   1460.845817   1617.609278  \n",
       "min                     0.000000   7895.000000   6970.000000   7477.000000  \n",
       "25%                     0.000000  12016.250000  10592.750000  11763.000000  \n",
       "50%                     1.000000  13092.500000  11642.000000  12843.000000  \n",
       "75%                     4.000000  14104.250000  12654.000000  13939.000000  \n",
       "max                    27.000000  17974.000000  16733.000000  17632.000000  "
      ]
     },
     "execution_count": 17,
     "metadata": {},
     "output_type": "execute_result"
    }
   ],
   "source": [
    "df.describe()"
   ]
  },
  {
   "cell_type": "code",
   "execution_count": 18,
   "metadata": {
    "scrolled": false
   },
   "outputs": [
    {
     "data": {
      "text/plain": [
       "<matplotlib.axes._subplots.AxesSubplot at 0x11b6c5460>"
      ]
     },
     "execution_count": 18,
     "metadata": {},
     "output_type": "execute_result"
    },
    {
     "data": {
      "image/png": "[encoded data removed]",
      "text/plain": [
       "<Figure size 432x288 with 1 Axes>"
      ]
     },
     "metadata": {
      "needs_background": "light"
     },
     "output_type": "display_data"
    }
   ],
   "source": [
    "df.plot(kind='scatter', x='emp_ovrll_ndx', y='pct_transit_commuters_ami')"
   ]
  },
  {
   "cell_type": "markdown",
   "metadata": {},
   "source": [
    "# Compare box plots of % of transit ridership given low job access and high job access"
   ]
  },
  {
   "cell_type": "code",
   "execution_count": 25,
   "metadata": {},
   "outputs": [
    {
     "data": {
      "text/html": [
       "<div>\n",
       "<style scoped>\n",
       "    .dataframe tbody tr th:only-of-type {\n",
       "        vertical-align: middle;\n",
       "    }\n",
       "\n",
       "    .dataframe tbody tr th {\n",
       "        vertical-align: top;\n",
       "    }\n",
       "\n",
       "    .dataframe thead th {\n",
       "        text-align: right;\n",
       "    }\n",
       "</style>\n",
       "<table border=\"1\" class=\"dataframe\">\n",
       "  <thead>\n",
       "    <tr style=\"text-align: right;\">\n",
       "      <th></th>\n",
       "      <th>emp_ovrll_ndx</th>\n",
       "      <th>pct_transit_commuters_ami</th>\n",
       "      <th>pct_transit_commuters_80ami</th>\n",
       "      <th>pct_transit_commuters_nmi</th>\n",
       "      <th>t_cost_ami</th>\n",
       "      <th>t_cost_80ami</th>\n",
       "      <th>t_cost_nmi</th>\n",
       "    </tr>\n",
       "  </thead>\n",
       "  <tbody>\n",
       "    <tr>\n",
       "      <th>0</th>\n",
       "      <td>0.6</td>\n",
       "      <td>0.0</td>\n",
       "      <td>0.0</td>\n",
       "      <td>0.0</td>\n",
       "      <td>14453.0</td>\n",
       "      <td>12775.0</td>\n",
       "      <td>15374.0</td>\n",
       "    </tr>\n",
       "    <tr>\n",
       "      <th>1</th>\n",
       "      <td>1.8</td>\n",
       "      <td>2.0</td>\n",
       "      <td>3.0</td>\n",
       "      <td>2.0</td>\n",
       "      <td>10711.0</td>\n",
       "      <td>9518.0</td>\n",
       "      <td>11796.0</td>\n",
       "    </tr>\n",
       "    <tr>\n",
       "      <th>2</th>\n",
       "      <td>1.1</td>\n",
       "      <td>3.0</td>\n",
       "      <td>3.0</td>\n",
       "      <td>2.0</td>\n",
       "      <td>10433.0</td>\n",
       "      <td>9291.0</td>\n",
       "      <td>11490.0</td>\n",
       "    </tr>\n",
       "    <tr>\n",
       "      <th>4</th>\n",
       "      <td>3.7</td>\n",
       "      <td>0.0</td>\n",
       "      <td>0.0</td>\n",
       "      <td>0.0</td>\n",
       "      <td>12285.0</td>\n",
       "      <td>10734.0</td>\n",
       "      <td>13340.0</td>\n",
       "    </tr>\n",
       "    <tr>\n",
       "      <th>7</th>\n",
       "      <td>3.6</td>\n",
       "      <td>1.0</td>\n",
       "      <td>1.0</td>\n",
       "      <td>1.0</td>\n",
       "      <td>13786.0</td>\n",
       "      <td>12134.0</td>\n",
       "      <td>14673.0</td>\n",
       "    </tr>\n",
       "  </tbody>\n",
       "</table>\n",
       "</div>"
      ],
      "text/plain": [
       "   emp_ovrll_ndx  pct_transit_commuters_ami  pct_transit_commuters_80ami  \\\n",
       "0            0.6                        0.0                          0.0   \n",
       "1            1.8                        2.0                          3.0   \n",
       "2            1.1                        3.0                          3.0   \n",
       "4            3.7                        0.0                          0.0   \n",
       "7            3.6                        1.0                          1.0   \n",
       "\n",
       "   pct_transit_commuters_nmi  t_cost_ami  t_cost_80ami  t_cost_nmi  \n",
       "0                        0.0     14453.0       12775.0     15374.0  \n",
       "1                        2.0     10711.0        9518.0     11796.0  \n",
       "2                        2.0     10433.0        9291.0     11490.0  \n",
       "4                        0.0     12285.0       10734.0     13340.0  \n",
       "7                        1.0     13786.0       12134.0     14673.0  "
      ]
     },
     "execution_count": 25,
     "metadata": {},
     "output_type": "execute_result"
    }
   ],
   "source": [
    "#low job access df\n",
    "low_job_access = df[df['emp_ovrll_ndx']<=4]\n",
    "low_job_access.head()"
   ]
  },
  {
   "cell_type": "code",
   "execution_count": 24,
   "metadata": {},
   "outputs": [
    {
     "data": {
      "text/html": [
       "<div>\n",
       "<style scoped>\n",
       "    .dataframe tbody tr th:only-of-type {\n",
       "        vertical-align: middle;\n",
       "    }\n",
       "\n",
       "    .dataframe tbody tr th {\n",
       "        vertical-align: top;\n",
       "    }\n",
       "\n",
       "    .dataframe thead th {\n",
       "        text-align: right;\n",
       "    }\n",
       "</style>\n",
       "<table border=\"1\" class=\"dataframe\">\n",
       "  <thead>\n",
       "    <tr style=\"text-align: right;\">\n",
       "      <th></th>\n",
       "      <th>emp_ovrll_ndx</th>\n",
       "      <th>pct_transit_commuters_ami</th>\n",
       "      <th>pct_transit_commuters_80ami</th>\n",
       "      <th>pct_transit_commuters_nmi</th>\n",
       "      <th>t_cost_ami</th>\n",
       "      <th>t_cost_80ami</th>\n",
       "      <th>t_cost_nmi</th>\n",
       "    </tr>\n",
       "  </thead>\n",
       "  <tbody>\n",
       "    <tr>\n",
       "      <th>3</th>\n",
       "      <td>4.5</td>\n",
       "      <td>1.0</td>\n",
       "      <td>1.0</td>\n",
       "      <td>0.0</td>\n",
       "      <td>12012.0</td>\n",
       "      <td>10481.0</td>\n",
       "      <td>13064.0</td>\n",
       "    </tr>\n",
       "    <tr>\n",
       "      <th>5</th>\n",
       "      <td>4.2</td>\n",
       "      <td>0.0</td>\n",
       "      <td>1.0</td>\n",
       "      <td>0.0</td>\n",
       "      <td>11389.0</td>\n",
       "      <td>9948.0</td>\n",
       "      <td>12534.0</td>\n",
       "    </tr>\n",
       "    <tr>\n",
       "      <th>6</th>\n",
       "      <td>4.6</td>\n",
       "      <td>0.0</td>\n",
       "      <td>0.0</td>\n",
       "      <td>0.0</td>\n",
       "      <td>11559.0</td>\n",
       "      <td>10060.0</td>\n",
       "      <td>12650.0</td>\n",
       "    </tr>\n",
       "  </tbody>\n",
       "</table>\n",
       "</div>"
      ],
      "text/plain": [
       "   emp_ovrll_ndx  pct_transit_commuters_ami  pct_transit_commuters_80ami  \\\n",
       "3            4.5                        1.0                          1.0   \n",
       "5            4.2                        0.0                          1.0   \n",
       "6            4.6                        0.0                          0.0   \n",
       "\n",
       "   pct_transit_commuters_nmi  t_cost_ami  t_cost_80ami  t_cost_nmi  \n",
       "3                        0.0     12012.0       10481.0     13064.0  \n",
       "5                        0.0     11389.0        9948.0     12534.0  \n",
       "6                        0.0     11559.0       10060.0     12650.0  "
      ]
     },
     "execution_count": 24,
     "metadata": {},
     "output_type": "execute_result"
    }
   ],
   "source": [
    "#high job access df\n",
    "high_job_access = df[df['emp_ovrll_ndx']>4]\n",
    "high_job_access.head(3)"
   ]
  },
  {
   "cell_type": "code",
   "execution_count": 28,
   "metadata": {
    "scrolled": true
   },
   "outputs": [
    {
     "data": {
      "text/plain": [
       "<matplotlib.axes._subplots.AxesSubplot at 0x11c453bb0>"
      ]
     },
     "execution_count": 28,
     "metadata": {},
     "output_type": "execute_result"
    },
    {
     "data": {
      "image/png": "[encoded data removed]",
      "text/plain": [
       "<Figure size 432x288 with 1 Axes>"
      ]
     },
     "metadata": {
      "needs_background": "light"
     },
     "output_type": "display_data"
    }
   ],
   "source": [
    "low_job_access.boxplot(column=['pct_transit_commuters_ami'])"
   ]
  },
  {
   "cell_type": "code",
   "execution_count": 31,
   "metadata": {},
   "outputs": [
    {
     "data": {
      "text/plain": [
       "<matplotlib.axes._subplots.AxesSubplot at 0x11c57bac0>"
      ]
     },
     "execution_count": 31,
     "metadata": {},
     "output_type": "execute_result"
    },
    {
     "data": {
      "image/png": "[encoded data removed]",
      "text/plain": [
       "<Figure size 432x288 with 1 Axes>"
      ]
     },
     "metadata": {
      "needs_background": "light"
     },
     "output_type": "display_data"
    }
   ],
   "source": [
    "high_job_access.boxplot(column=['pct_transit_commuters_ami'])"
   ]
  },
  {
   "cell_type": "markdown",
   "metadata": {},
   "source": [
    "## Boxplots are not helpful since the question doesn't deal with categorical data. It looks like scatter plots are the way to go, so relationship between job access and other variables can be seen more clearly."
   ]
  },
  {
   "cell_type": "markdown",
   "metadata": {},
   "source": [
    "# As job access (emp_ovrll_ndx) increases, % of transit ridership tends to increase:"
   ]
  },
  {
   "cell_type": "code",
   "execution_count": 34,
   "metadata": {
    "scrolled": true
   },
   "outputs": [
    {
     "data": {
      "text/plain": [
       "<matplotlib.axes._subplots.AxesSubplot at 0x11c78cca0>"
      ]
     },
     "execution_count": 34,
     "metadata": {},
     "output_type": "execute_result"
    },
    {
     "data": {
      "image/png": "[encoded data removed]",
      "text/plain": [
       "<Figure size 432x288 with 1 Axes>"
      ]
     },
     "metadata": {
      "needs_background": "light"
     },
     "output_type": "display_data"
    }
   ],
   "source": [
    "df.plot(kind='scatter', x='emp_ovrll_ndx', y='pct_transit_commuters_ami')"
   ]
  },
  {
   "cell_type": "code",
   "execution_count": 35,
   "metadata": {},
   "outputs": [
    {
     "data": {
      "text/plain": [
       "<matplotlib.axes._subplots.AxesSubplot at 0x11cb3e490>"
      ]
     },
     "execution_count": 35,
     "metadata": {},
     "output_type": "execute_result"
    },
    {
     "data": {
      "image/png": "[encoded data removed]",
      "text/plain": [
       "<Figure size 432x288 with 1 Axes>"
      ]
     },
     "metadata": {
      "needs_background": "light"
     },
     "output_type": "display_data"
    }
   ],
   "source": [
    "df.plot(kind='scatter', x='emp_ovrll_ndx', y='pct_transit_commuters_80ami')"
   ]
  },
  {
   "cell_type": "code",
   "execution_count": 36,
   "metadata": {},
   "outputs": [
    {
     "data": {
      "text/plain": [
       "<matplotlib.axes._subplots.AxesSubplot at 0x11cb05580>"
      ]
     },
     "execution_count": 36,
     "metadata": {},
     "output_type": "execute_result"
    },
    {
     "data": {
      "image/png": "[encoded data removed]",
      "text/plain": [
       "<Figure size 432x288 with 1 Axes>"
      ]
     },
     "metadata": {
      "needs_background": "light"
     },
     "output_type": "display_data"
    }
   ],
   "source": [
    "df.plot(kind='scatter', x='emp_ovrll_ndx', y='pct_transit_commuters_nmi')"
   ]
  },
  {
   "cell_type": "markdown",
   "metadata": {},
   "source": [
    "## Not much of a difference between pct_transit_commuters_ami, pct_transit_commuters_80ami, and pct_transit_commuters_nmi. The trend stays the same."
   ]
  },
  {
   "cell_type": "markdown",
   "metadata": {},
   "source": [
    "# As job access (emp_ovrll_ndx) increases, the cost of transportation decreases:"
   ]
  },
  {
   "cell_type": "code",
   "execution_count": 37,
   "metadata": {},
   "outputs": [
    {
     "data": {
      "text/plain": [
       "<matplotlib.axes._subplots.AxesSubplot at 0x11cb7dd60>"
      ]
     },
     "execution_count": 37,
     "metadata": {},
     "output_type": "execute_result"
    },
    {
     "data": {
      "image/png": "[encoded data removed]",
      "text/plain": [
       "<Figure size 432x288 with 1 Axes>"
      ]
     },
     "metadata": {
      "needs_background": "light"
     },
     "output_type": "display_data"
    }
   ],
   "source": [
    "df.plot(kind='scatter', x='emp_ovrll_ndx', y='t_cost_ami')"
   ]
  },
  {
   "cell_type": "code",
   "execution_count": 38,
   "metadata": {},
   "outputs": [
    {
     "data": {
      "text/plain": [
       "<matplotlib.axes._subplots.AxesSubplot at 0x11cd38220>"
      ]
     },
     "execution_count": 38,
     "metadata": {},
     "output_type": "execute_result"
    },
    {
     "data": {
      "image/png": "[encoded data removed]",
      "text/plain": [
       "<Figure size 432x288 with 1 Axes>"
      ]
     },
     "metadata": {
      "needs_background": "light"
     },
     "output_type": "display_data"
    }
   ],
   "source": [
    "df.plot(kind='scatter', x='emp_ovrll_ndx', y='t_cost_80ami')"
   ]
  },
  {
   "cell_type": "code",
   "execution_count": 39,
   "metadata": {},
   "outputs": [
    {
     "data": {
      "text/plain": [
       "<matplotlib.axes._subplots.AxesSubplot at 0x11cdc2310>"
      ]
     },
     "execution_count": 39,
     "metadata": {},
     "output_type": "execute_result"
    },
    {
     "data": {
      "image/png": "[encoded data removed]",
      "text/plain": [
       "<Figure size 432x288 with 1 Axes>"
      ]
     },
     "metadata": {
      "needs_background": "light"
     },
     "output_type": "display_data"
    }
   ],
   "source": [
    "df.plot(kind='scatter', x='emp_ovrll_ndx', y='t_cost_nmi')"
   ]
  },
  {
   "cell_type": "markdown",
   "metadata": {},
   "source": [
    "## Again, not much of a difference bewteen t_cost_ami, t_cost_80ami, and t_cost_nmi. The trend/relationship is the same."
   ]
  },
  {
   "cell_type": "code",
   "execution_count": null,
   "metadata": {},
   "outputs": [],
   "source": []
  }
 ],
 "metadata": {
  "kernelspec": {
   "display_name": "Python 3",
   "language": "python",
   "name": "python3"
  },
  "language_info": {
   "codemirror_mode": {
    "name": "ipython",
    "version": 3
   },
   "file_extension": ".py",
   "mimetype": "text/x-python",
   "name": "python",
   "nbconvert_exporter": "python",
   "pygments_lexer": "ipython3",
   "version": "3.8.3"
  }
 },
 "nbformat": 4,
 "nbformat_minor": 4
}
