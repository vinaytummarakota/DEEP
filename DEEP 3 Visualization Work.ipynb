{
 "cells": [
  {
   "cell_type": "code",
   "execution_count": 32,
   "metadata": {},
   "outputs": [],
   "source": [
    "import matplotlib.pyplot as plt\n",
    "import seaborn as sns\n",
    "import pandas as pd\n",
    "import numpy as np\n",
    "import seaborn as sns"
   ]
  },
  {
   "cell_type": "code",
   "execution_count": 5,
   "metadata": {},
   "outputs": [
    {
     "name": "stdout",
     "output_type": "stream",
     "text": [
      "              tract             cbsa  blkgrps  population  households  \\\n",
      "0     \"48001950100\"  \"Palestine, TX\"      3.0      4782.0      1784.0   \n",
      "1     \"48001950401\"  \"Palestine, TX\"      1.0      5166.0        99.0   \n",
      "2     \"48001950402\"  \"Palestine, TX\"      1.0      6802.0        53.0   \n",
      "3     \"48001950500\"  \"Palestine, TX\"      4.0      4587.0      1492.0   \n",
      "4     \"48001950600\"  \"Palestine, TX\"      4.0      6658.0      2236.0   \n",
      "...             ...              ...      ...         ...         ...   \n",
      "5248  \"48505950400\"     \"Zapata, TX\"      4.0      5979.0      1745.0   \n",
      "5249  \"48507950100\"               \"\"      1.0      1167.0       404.0   \n",
      "5250  \"48507950200\"               \"\"      1.0      1939.0       567.0   \n",
      "5251  \"48507950301\"               \"\"      2.0      2129.0       671.0   \n",
      "5252  \"48507950302\"               \"\"      5.0      6825.0      1985.0   \n",
      "\n",
      "      land_acres  ht_ami  ht_80ami  ht_nmi  h_ami  ...  emp_gravity  emp_ndx  \\\n",
      "0      119427.88    65.0      77.0    52.0   30.0  ...       1277.0     81.0   \n",
      "1        4089.55    43.0      50.0    35.0   17.0  ...       1119.0     80.0   \n",
      "2       17908.21    56.0      66.0    45.0   31.0  ...       1063.0     80.0   \n",
      "3        5693.29    53.0      62.0    43.0   24.0  ...       3118.0     82.0   \n",
      "4        5103.13    55.0      64.0    44.0   25.0  ...       3465.0     83.0   \n",
      "...          ...     ...       ...     ...    ...  ...          ...      ...   \n",
      "5248   630786.51    68.0      82.0    42.0   37.0  ...        660.0     75.0   \n",
      "5249   275327.07    80.0      96.0    42.0   27.0  ...        493.0     77.0   \n",
      "5250   145983.56    86.0     102.0    45.0   34.0  ...        420.0     76.0   \n",
      "5251   404217.35    50.0      59.0    27.0   16.0  ...       1252.0     79.0   \n",
      "5252     4811.68    65.0      77.0    34.0   26.0  ...       1965.0     81.0   \n",
      "\n",
      "      block_size  intersection_density  avg_block_perimeter_meters  h_cost  \\\n",
      "0          252.0                   6.0                        4035  1047.0   \n",
      "1          100.0                   5.0                        2419   576.0   \n",
      "2          179.0                   3.0                        4171  1053.0   \n",
      "3           23.0                  53.0                        1212   834.0   \n",
      "4           24.0                  65.0                        1174   857.0   \n",
      "...          ...                   ...                         ...     ...   \n",
      "5248       303.0                   3.0                        5331   983.0   \n",
      "5249       355.0                   4.0                        4491   593.0   \n",
      "5250       246.0                   4.0                        3408   751.0   \n",
      "5251       123.0                   3.0                        5008   351.0   \n",
      "5252        15.0                  68.0                        1188   583.0   \n",
      "\n",
      "      median_smoc  median_gross_rent  pct_owner_occupied_hu  \\\n",
      "0          1085.0              785.0                   83.0   \n",
      "1             NaN              576.0                   13.0   \n",
      "2             NaN             1053.0                    9.0   \n",
      "3           917.0              373.0                   61.0   \n",
      "4           933.0              750.0                   62.0   \n",
      "...           ...                ...                    ...   \n",
      "5248       1147.0              435.0                   77.0   \n",
      "5249        621.0              474.0                   81.0   \n",
      "5250        819.0              511.0                   78.0   \n",
      "5251          NaN              351.0                   45.0   \n",
      "5252        436.0              381.0                   70.0   \n",
      "\n",
      "      pct_renter_occupied_hu  \n",
      "0                       17.0  \n",
      "1                       87.0  \n",
      "2                       91.0  \n",
      "3                       39.0  \n",
      "4                       38.0  \n",
      "...                      ...  \n",
      "5248                    23.0  \n",
      "5249                    19.0  \n",
      "5250                    22.0  \n",
      "5251                    55.0  \n",
      "5252                    30.0  \n",
      "\n",
      "[5253 rows x 57 columns]\n"
     ]
    }
   ],
   "source": [
    "df = pd.read_csv(\"texas_affordability_census_tract.csv\")\n",
    "print(df)"
   ]
  },
  {
   "cell_type": "code",
   "execution_count": 6,
   "metadata": {},
   "outputs": [
    {
     "data": {
      "text/html": [
       "<div>\n",
       "<style scoped>\n",
       "    .dataframe tbody tr th:only-of-type {\n",
       "        vertical-align: middle;\n",
       "    }\n",
       "\n",
       "    .dataframe tbody tr th {\n",
       "        vertical-align: top;\n",
       "    }\n",
       "\n",
       "    .dataframe thead th {\n",
       "        text-align: right;\n",
       "    }\n",
       "</style>\n",
       "<table border=\"1\" class=\"dataframe\">\n",
       "  <thead>\n",
       "    <tr style=\"text-align: right;\">\n",
       "      <th></th>\n",
       "      <th>tract</th>\n",
       "      <th>cbsa</th>\n",
       "      <th>blkgrps</th>\n",
       "      <th>population</th>\n",
       "      <th>households</th>\n",
       "      <th>land_acres</th>\n",
       "      <th>ht_ami</th>\n",
       "      <th>ht_80ami</th>\n",
       "      <th>ht_nmi</th>\n",
       "      <th>h_ami</th>\n",
       "      <th>...</th>\n",
       "      <th>emp_gravity</th>\n",
       "      <th>emp_ndx</th>\n",
       "      <th>block_size</th>\n",
       "      <th>intersection_density</th>\n",
       "      <th>avg_block_perimeter_meters</th>\n",
       "      <th>h_cost</th>\n",
       "      <th>median_smoc</th>\n",
       "      <th>median_gross_rent</th>\n",
       "      <th>pct_owner_occupied_hu</th>\n",
       "      <th>pct_renter_occupied_hu</th>\n",
       "    </tr>\n",
       "  </thead>\n",
       "  <tbody>\n",
       "    <tr>\n",
       "      <th>0</th>\n",
       "      <td>\"48001950100\"</td>\n",
       "      <td>\"Palestine, TX\"</td>\n",
       "      <td>3.0</td>\n",
       "      <td>4782.0</td>\n",
       "      <td>1784.0</td>\n",
       "      <td>119427.88</td>\n",
       "      <td>65.0</td>\n",
       "      <td>77.0</td>\n",
       "      <td>52.0</td>\n",
       "      <td>30.0</td>\n",
       "      <td>...</td>\n",
       "      <td>1277.0</td>\n",
       "      <td>81.0</td>\n",
       "      <td>252.0</td>\n",
       "      <td>6.0</td>\n",
       "      <td>4035</td>\n",
       "      <td>1047.0</td>\n",
       "      <td>1085.0</td>\n",
       "      <td>785.0</td>\n",
       "      <td>83.0</td>\n",
       "      <td>17.0</td>\n",
       "    </tr>\n",
       "    <tr>\n",
       "      <th>1</th>\n",
       "      <td>\"48001950401\"</td>\n",
       "      <td>\"Palestine, TX\"</td>\n",
       "      <td>1.0</td>\n",
       "      <td>5166.0</td>\n",
       "      <td>99.0</td>\n",
       "      <td>4089.55</td>\n",
       "      <td>43.0</td>\n",
       "      <td>50.0</td>\n",
       "      <td>35.0</td>\n",
       "      <td>17.0</td>\n",
       "      <td>...</td>\n",
       "      <td>1119.0</td>\n",
       "      <td>80.0</td>\n",
       "      <td>100.0</td>\n",
       "      <td>5.0</td>\n",
       "      <td>2419</td>\n",
       "      <td>576.0</td>\n",
       "      <td>NaN</td>\n",
       "      <td>576.0</td>\n",
       "      <td>13.0</td>\n",
       "      <td>87.0</td>\n",
       "    </tr>\n",
       "    <tr>\n",
       "      <th>2</th>\n",
       "      <td>\"48001950402\"</td>\n",
       "      <td>\"Palestine, TX\"</td>\n",
       "      <td>1.0</td>\n",
       "      <td>6802.0</td>\n",
       "      <td>53.0</td>\n",
       "      <td>17908.21</td>\n",
       "      <td>56.0</td>\n",
       "      <td>66.0</td>\n",
       "      <td>45.0</td>\n",
       "      <td>31.0</td>\n",
       "      <td>...</td>\n",
       "      <td>1063.0</td>\n",
       "      <td>80.0</td>\n",
       "      <td>179.0</td>\n",
       "      <td>3.0</td>\n",
       "      <td>4171</td>\n",
       "      <td>1053.0</td>\n",
       "      <td>NaN</td>\n",
       "      <td>1053.0</td>\n",
       "      <td>9.0</td>\n",
       "      <td>91.0</td>\n",
       "    </tr>\n",
       "    <tr>\n",
       "      <th>3</th>\n",
       "      <td>\"48001950500\"</td>\n",
       "      <td>\"Palestine, TX\"</td>\n",
       "      <td>4.0</td>\n",
       "      <td>4587.0</td>\n",
       "      <td>1492.0</td>\n",
       "      <td>5693.29</td>\n",
       "      <td>53.0</td>\n",
       "      <td>62.0</td>\n",
       "      <td>43.0</td>\n",
       "      <td>24.0</td>\n",
       "      <td>...</td>\n",
       "      <td>3118.0</td>\n",
       "      <td>82.0</td>\n",
       "      <td>23.0</td>\n",
       "      <td>53.0</td>\n",
       "      <td>1212</td>\n",
       "      <td>834.0</td>\n",
       "      <td>917.0</td>\n",
       "      <td>373.0</td>\n",
       "      <td>61.0</td>\n",
       "      <td>39.0</td>\n",
       "    </tr>\n",
       "    <tr>\n",
       "      <th>4</th>\n",
       "      <td>\"48001950600\"</td>\n",
       "      <td>\"Palestine, TX\"</td>\n",
       "      <td>4.0</td>\n",
       "      <td>6658.0</td>\n",
       "      <td>2236.0</td>\n",
       "      <td>5103.13</td>\n",
       "      <td>55.0</td>\n",
       "      <td>64.0</td>\n",
       "      <td>44.0</td>\n",
       "      <td>25.0</td>\n",
       "      <td>...</td>\n",
       "      <td>3465.0</td>\n",
       "      <td>83.0</td>\n",
       "      <td>24.0</td>\n",
       "      <td>65.0</td>\n",
       "      <td>1174</td>\n",
       "      <td>857.0</td>\n",
       "      <td>933.0</td>\n",
       "      <td>750.0</td>\n",
       "      <td>62.0</td>\n",
       "      <td>38.0</td>\n",
       "    </tr>\n",
       "  </tbody>\n",
       "</table>\n",
       "<p>5 rows × 57 columns</p>\n",
       "</div>"
      ],
      "text/plain": [
       "           tract             cbsa  blkgrps  population  households  \\\n",
       "0  \"48001950100\"  \"Palestine, TX\"      3.0      4782.0      1784.0   \n",
       "1  \"48001950401\"  \"Palestine, TX\"      1.0      5166.0        99.0   \n",
       "2  \"48001950402\"  \"Palestine, TX\"      1.0      6802.0        53.0   \n",
       "3  \"48001950500\"  \"Palestine, TX\"      4.0      4587.0      1492.0   \n",
       "4  \"48001950600\"  \"Palestine, TX\"      4.0      6658.0      2236.0   \n",
       "\n",
       "   land_acres  ht_ami  ht_80ami  ht_nmi  h_ami  ...  emp_gravity  emp_ndx  \\\n",
       "0   119427.88    65.0      77.0    52.0   30.0  ...       1277.0     81.0   \n",
       "1     4089.55    43.0      50.0    35.0   17.0  ...       1119.0     80.0   \n",
       "2    17908.21    56.0      66.0    45.0   31.0  ...       1063.0     80.0   \n",
       "3     5693.29    53.0      62.0    43.0   24.0  ...       3118.0     82.0   \n",
       "4     5103.13    55.0      64.0    44.0   25.0  ...       3465.0     83.0   \n",
       "\n",
       "   block_size  intersection_density  avg_block_perimeter_meters  h_cost  \\\n",
       "0       252.0                   6.0                        4035  1047.0   \n",
       "1       100.0                   5.0                        2419   576.0   \n",
       "2       179.0                   3.0                        4171  1053.0   \n",
       "3        23.0                  53.0                        1212   834.0   \n",
       "4        24.0                  65.0                        1174   857.0   \n",
       "\n",
       "   median_smoc  median_gross_rent  pct_owner_occupied_hu  \\\n",
       "0       1085.0              785.0                   83.0   \n",
       "1          NaN              576.0                   13.0   \n",
       "2          NaN             1053.0                    9.0   \n",
       "3        917.0              373.0                   61.0   \n",
       "4        933.0              750.0                   62.0   \n",
       "\n",
       "   pct_renter_occupied_hu  \n",
       "0                    17.0  \n",
       "1                    87.0  \n",
       "2                    91.0  \n",
       "3                    39.0  \n",
       "4                    38.0  \n",
       "\n",
       "[5 rows x 57 columns]"
      ]
     },
     "execution_count": 6,
     "metadata": {},
     "output_type": "execute_result"
    }
   ],
   "source": [
    "df.head()"
   ]
  },
  {
   "cell_type": "code",
   "execution_count": 7,
   "metadata": {},
   "outputs": [
    {
     "data": {
      "text/plain": [
       "tract                          5253\n",
       "cbsa                             69\n",
       "blkgrps                           8\n",
       "population                     3850\n",
       "households                     2450\n",
       "land_acres                     5223\n",
       "ht_ami                           86\n",
       "ht_80ami                        103\n",
       "ht_nmi                           93\n",
       "h_ami                            73\n",
       "h_80ami                          91\n",
       "h_nmi                            81\n",
       "t_ami                            46\n",
       "t_80ami                          49\n",
       "t_nmi                            19\n",
       "co2_per_hh_local                787\n",
       "co2_per_acre_local             2873\n",
       "autos_per_hh_ami                125\n",
       "autos_per_hh_80ami                2\n",
       "autos_per_hh_nmi                  3\n",
       "vmt_per_hh_ami                 4167\n",
       "vmt_per_hh_80ami               4058\n",
       "vmt_per_hh_nmi                 4143\n",
       "pct_transit_commuters_ami        29\n",
       "pct_transit_commuters_80ami      27\n",
       "pct_transit_commuters_nmi        28\n",
       "t_cost_ami                     3390\n",
       "t_cost_80ami                   3368\n",
       "t_cost_nmi                     3489\n",
       "auto_ownership_cost_ami        3066\n",
       "auto_ownership_cost_80ami      3062\n",
       "auto_ownership_cost_nmi        3149\n",
       "vmt_cost_ami                   1600\n",
       "vmt_cost_80ami                 1497\n",
       "vmt_cost_nmi                   1556\n",
       "transit_cost_ami                358\n",
       "transit_cost_80ami              344\n",
       "transit_cost_nmi                360\n",
       "transit_trips_ami               381\n",
       "transit_trips_80ami             371\n",
       "transit_trips_nmi               374\n",
       "compact_ndx                      98\n",
       "emp_ovrll_ndx                    99\n",
       "res_density                    1316\n",
       "gross_hh_density                696\n",
       "hh_gravity                     4807\n",
       "frac_sfd                        101\n",
       "emp_gravity                    4911\n",
       "emp_ndx                          27\n",
       "block_size                      480\n",
       "intersection_density            468\n",
       "avg_block_perimeter_meters     2363\n",
       "h_cost                         1584\n",
       "median_smoc                    1869\n",
       "median_gross_rent              1358\n",
       "pct_owner_occupied_hu           101\n",
       "pct_renter_occupied_hu          101\n",
       "dtype: int64"
      ]
     },
     "execution_count": 7,
     "metadata": {},
     "output_type": "execute_result"
    }
   ],
   "source": [
    "df.nunique()"
   ]
  },
  {
   "cell_type": "code",
   "execution_count": 9,
   "metadata": {},
   "outputs": [
    {
     "data": {
      "text/html": [
       "<div>\n",
       "<style scoped>\n",
       "    .dataframe tbody tr th:only-of-type {\n",
       "        vertical-align: middle;\n",
       "    }\n",
       "\n",
       "    .dataframe tbody tr th {\n",
       "        vertical-align: top;\n",
       "    }\n",
       "\n",
       "    .dataframe thead th {\n",
       "        text-align: right;\n",
       "    }\n",
       "</style>\n",
       "<table border=\"1\" class=\"dataframe\">\n",
       "  <thead>\n",
       "    <tr style=\"text-align: right;\">\n",
       "      <th></th>\n",
       "      <th>t_ami</th>\n",
       "      <th>autos_per_hh_ami</th>\n",
       "    </tr>\n",
       "  </thead>\n",
       "  <tbody>\n",
       "    <tr>\n",
       "      <th>0</th>\n",
       "      <td>35.0</td>\n",
       "      <td>2.07</td>\n",
       "    </tr>\n",
       "    <tr>\n",
       "      <th>1</th>\n",
       "      <td>26.0</td>\n",
       "      <td>1.47</td>\n",
       "    </tr>\n",
       "    <tr>\n",
       "      <th>2</th>\n",
       "      <td>25.0</td>\n",
       "      <td>1.43</td>\n",
       "    </tr>\n",
       "    <tr>\n",
       "      <th>3</th>\n",
       "      <td>29.0</td>\n",
       "      <td>1.68</td>\n",
       "    </tr>\n",
       "    <tr>\n",
       "      <th>4</th>\n",
       "      <td>30.0</td>\n",
       "      <td>1.71</td>\n",
       "    </tr>\n",
       "    <tr>\n",
       "      <th>...</th>\n",
       "      <td>...</td>\n",
       "      <td>...</td>\n",
       "    </tr>\n",
       "    <tr>\n",
       "      <th>5248</th>\n",
       "      <td>41.0</td>\n",
       "      <td>1.89</td>\n",
       "    </tr>\n",
       "    <tr>\n",
       "      <th>5249</th>\n",
       "      <td>54.0</td>\n",
       "      <td>2.11</td>\n",
       "    </tr>\n",
       "    <tr>\n",
       "      <th>5250</th>\n",
       "      <td>52.0</td>\n",
       "      <td>2.01</td>\n",
       "    </tr>\n",
       "    <tr>\n",
       "      <th>5251</th>\n",
       "      <td>42.0</td>\n",
       "      <td>1.60</td>\n",
       "    </tr>\n",
       "    <tr>\n",
       "      <th>5252</th>\n",
       "      <td>44.0</td>\n",
       "      <td>1.69</td>\n",
       "    </tr>\n",
       "  </tbody>\n",
       "</table>\n",
       "<p>5253 rows × 2 columns</p>\n",
       "</div>"
      ],
      "text/plain": [
       "      t_ami  autos_per_hh_ami\n",
       "0      35.0              2.07\n",
       "1      26.0              1.47\n",
       "2      25.0              1.43\n",
       "3      29.0              1.68\n",
       "4      30.0              1.71\n",
       "...     ...               ...\n",
       "5248   41.0              1.89\n",
       "5249   54.0              2.11\n",
       "5250   52.0              2.01\n",
       "5251   42.0              1.60\n",
       "5252   44.0              1.69\n",
       "\n",
       "[5253 rows x 2 columns]"
      ]
     },
     "execution_count": 9,
     "metadata": {},
     "output_type": "execute_result"
    }
   ],
   "source": [
    "df.loc[:, ['t_ami', 'autos_per_hh_ami']]"
   ]
  },
  {
   "cell_type": "code",
   "execution_count": 10,
   "metadata": {},
   "outputs": [
    {
     "data": {
      "text/plain": [
       "<matplotlib.collections.PathCollection at 0x7faf3fb83370>"
      ]
     },
     "execution_count": 10,
     "metadata": {},
     "output_type": "execute_result"
    },
    {
     "data": {
      "image/png": "[encoded data removed]",
      "text/plain": [
       "<Figure size 432x288 with 1 Axes>"
      ]
     },
     "metadata": {
      "needs_background": "light"
     },
     "output_type": "display_data"
    }
   ],
   "source": [
    "plt.scatter('t_ami', 'autos_per_hh_ami', data = df)"
   ]
  },
  {
   "cell_type": "code",
   "execution_count": 11,
   "metadata": {},
   "outputs": [
    {
     "data": {
      "text/plain": [
       "<matplotlib.collections.PathCollection at 0x7faf3fb06eb0>"
      ]
     },
     "execution_count": 11,
     "metadata": {},
     "output_type": "execute_result"
    },
    {
     "data": {
      "image/png": "[encoded data removed]",
      "text/plain": [
       "<Figure size 432x288 with 1 Axes>"
      ]
     },
     "metadata": {
      "needs_background": "light"
     },
     "output_type": "display_data"
    }
   ],
   "source": [
    "plt.scatter('t_80ami', 'autos_per_hh_80ami', data = df)"
   ]
  },
  {
   "cell_type": "code",
   "execution_count": 12,
   "metadata": {},
   "outputs": [
    {
     "data": {
      "text/html": [
       "<div>\n",
       "<style scoped>\n",
       "    .dataframe tbody tr th:only-of-type {\n",
       "        vertical-align: middle;\n",
       "    }\n",
       "\n",
       "    .dataframe tbody tr th {\n",
       "        vertical-align: top;\n",
       "    }\n",
       "\n",
       "    .dataframe thead th {\n",
       "        text-align: right;\n",
       "    }\n",
       "</style>\n",
       "<table border=\"1\" class=\"dataframe\">\n",
       "  <thead>\n",
       "    <tr style=\"text-align: right;\">\n",
       "      <th></th>\n",
       "      <th>t_80ami</th>\n",
       "      <th>autos_per_hh_80ami</th>\n",
       "    </tr>\n",
       "  </thead>\n",
       "  <tbody>\n",
       "    <tr>\n",
       "      <th>0</th>\n",
       "      <td>39.0</td>\n",
       "      <td>2.0</td>\n",
       "    </tr>\n",
       "    <tr>\n",
       "      <th>1</th>\n",
       "      <td>29.0</td>\n",
       "      <td>1.0</td>\n",
       "    </tr>\n",
       "    <tr>\n",
       "      <th>2</th>\n",
       "      <td>28.0</td>\n",
       "      <td>1.0</td>\n",
       "    </tr>\n",
       "    <tr>\n",
       "      <th>3</th>\n",
       "      <td>32.0</td>\n",
       "      <td>2.0</td>\n",
       "    </tr>\n",
       "    <tr>\n",
       "      <th>4</th>\n",
       "      <td>32.0</td>\n",
       "      <td>2.0</td>\n",
       "    </tr>\n",
       "    <tr>\n",
       "      <th>...</th>\n",
       "      <td>...</td>\n",
       "      <td>...</td>\n",
       "    </tr>\n",
       "    <tr>\n",
       "      <th>5248</th>\n",
       "      <td>47.0</td>\n",
       "      <td>2.0</td>\n",
       "    </tr>\n",
       "    <tr>\n",
       "      <th>5249</th>\n",
       "      <td>62.0</td>\n",
       "      <td>2.0</td>\n",
       "    </tr>\n",
       "    <tr>\n",
       "      <th>5250</th>\n",
       "      <td>60.0</td>\n",
       "      <td>2.0</td>\n",
       "    </tr>\n",
       "    <tr>\n",
       "      <th>5251</th>\n",
       "      <td>49.0</td>\n",
       "      <td>1.0</td>\n",
       "    </tr>\n",
       "    <tr>\n",
       "      <th>5252</th>\n",
       "      <td>50.0</td>\n",
       "      <td>2.0</td>\n",
       "    </tr>\n",
       "  </tbody>\n",
       "</table>\n",
       "<p>5253 rows × 2 columns</p>\n",
       "</div>"
      ],
      "text/plain": [
       "      t_80ami  autos_per_hh_80ami\n",
       "0        39.0                 2.0\n",
       "1        29.0                 1.0\n",
       "2        28.0                 1.0\n",
       "3        32.0                 2.0\n",
       "4        32.0                 2.0\n",
       "...       ...                 ...\n",
       "5248     47.0                 2.0\n",
       "5249     62.0                 2.0\n",
       "5250     60.0                 2.0\n",
       "5251     49.0                 1.0\n",
       "5252     50.0                 2.0\n",
       "\n",
       "[5253 rows x 2 columns]"
      ]
     },
     "execution_count": 12,
     "metadata": {},
     "output_type": "execute_result"
    }
   ],
   "source": [
    "df.loc[:, ['t_80ami', 'autos_per_hh_80ami']]"
   ]
  },
  {
   "cell_type": "code",
   "execution_count": 13,
   "metadata": {},
   "outputs": [
    {
     "data": {
      "text/plain": [
       "<matplotlib.collections.PathCollection at 0x7faf3fa64dc0>"
      ]
     },
     "execution_count": 13,
     "metadata": {},
     "output_type": "execute_result"
    },
    {
     "data": {
      "image/png": "[encoded data removed]",
      "text/plain": [
       "<Figure size 432x288 with 1 Axes>"
      ]
     },
     "metadata": {
      "needs_background": "light"
     },
     "output_type": "display_data"
    }
   ],
   "source": [
    "plt.scatter('t_nmi', 'autos_per_hh_nmi', data = df)"
   ]
  },
  {
   "cell_type": "code",
   "execution_count": 14,
   "metadata": {},
   "outputs": [
    {
     "data": {
      "text/html": [
       "<div>\n",
       "<style scoped>\n",
       "    .dataframe tbody tr th:only-of-type {\n",
       "        vertical-align: middle;\n",
       "    }\n",
       "\n",
       "    .dataframe tbody tr th {\n",
       "        vertical-align: top;\n",
       "    }\n",
       "\n",
       "    .dataframe thead th {\n",
       "        text-align: right;\n",
       "    }\n",
       "</style>\n",
       "<table border=\"1\" class=\"dataframe\">\n",
       "  <thead>\n",
       "    <tr style=\"text-align: right;\">\n",
       "      <th></th>\n",
       "      <th>t_nmi</th>\n",
       "      <th>autos_per_hh_nmi</th>\n",
       "    </tr>\n",
       "  </thead>\n",
       "  <tbody>\n",
       "    <tr>\n",
       "      <th>0</th>\n",
       "      <td>29.0</td>\n",
       "      <td>2.0</td>\n",
       "    </tr>\n",
       "    <tr>\n",
       "      <th>1</th>\n",
       "      <td>22.0</td>\n",
       "      <td>2.0</td>\n",
       "    </tr>\n",
       "    <tr>\n",
       "      <th>2</th>\n",
       "      <td>21.0</td>\n",
       "      <td>2.0</td>\n",
       "    </tr>\n",
       "    <tr>\n",
       "      <th>3</th>\n",
       "      <td>24.0</td>\n",
       "      <td>2.0</td>\n",
       "    </tr>\n",
       "    <tr>\n",
       "      <th>4</th>\n",
       "      <td>25.0</td>\n",
       "      <td>2.0</td>\n",
       "    </tr>\n",
       "    <tr>\n",
       "      <th>...</th>\n",
       "      <td>...</td>\n",
       "      <td>...</td>\n",
       "    </tr>\n",
       "    <tr>\n",
       "      <th>5248</th>\n",
       "      <td>26.0</td>\n",
       "      <td>2.0</td>\n",
       "    </tr>\n",
       "    <tr>\n",
       "      <th>5249</th>\n",
       "      <td>29.0</td>\n",
       "      <td>2.0</td>\n",
       "    </tr>\n",
       "    <tr>\n",
       "      <th>5250</th>\n",
       "      <td>28.0</td>\n",
       "      <td>2.0</td>\n",
       "    </tr>\n",
       "    <tr>\n",
       "      <th>5251</th>\n",
       "      <td>24.0</td>\n",
       "      <td>2.0</td>\n",
       "    </tr>\n",
       "    <tr>\n",
       "      <th>5252</th>\n",
       "      <td>24.0</td>\n",
       "      <td>2.0</td>\n",
       "    </tr>\n",
       "  </tbody>\n",
       "</table>\n",
       "<p>5253 rows × 2 columns</p>\n",
       "</div>"
      ],
      "text/plain": [
       "      t_nmi  autos_per_hh_nmi\n",
       "0      29.0               2.0\n",
       "1      22.0               2.0\n",
       "2      21.0               2.0\n",
       "3      24.0               2.0\n",
       "4      25.0               2.0\n",
       "...     ...               ...\n",
       "5248   26.0               2.0\n",
       "5249   29.0               2.0\n",
       "5250   28.0               2.0\n",
       "5251   24.0               2.0\n",
       "5252   24.0               2.0\n",
       "\n",
       "[5253 rows x 2 columns]"
      ]
     },
     "execution_count": 14,
     "metadata": {},
     "output_type": "execute_result"
    }
   ],
   "source": [
    "df.loc[:, ['t_nmi', 'autos_per_hh_nmi']]"
   ]
  },
  {
   "cell_type": "code",
   "execution_count": 32,
   "metadata": {},
   "outputs": [
    {
     "data": {
      "text/plain": [
       "Text(0, 0.5, 'Transportation Costs as % of Income')"
      ]
     },
     "execution_count": 32,
     "metadata": {},
     "output_type": "execute_result"
    },
    {
     "data": {
      "image/png": "[encoded data removed]",
      "text/plain": [
       "<Figure size 432x288 with 1 Axes>"
      ]
     },
     "metadata": {
      "needs_background": "light"
     },
     "output_type": "display_data"
    }
   ],
   "source": [
    "df.boxplot(by = 'autos_per_hh_80ami', column = ['t_80ami'])\n",
    "plt.xlabel(\"Autos per Household\")\n",
    "plt.ylabel(\"Transportation Costs as % of Income\")"
   ]
  },
  {
   "cell_type": "code",
   "execution_count": 6,
   "metadata": {},
   "outputs": [
    {
     "data": {
      "text/plain": [
       "Text(0, 0.5, 'Transportation Costs as % of Income')"
      ]
     },
     "execution_count": 6,
     "metadata": {},
     "output_type": "execute_result"
    },
    {
     "data": {
      "image/png": "[encoded data removed]",
      "text/plain": [
       "<Figure size 432x288 with 1 Axes>"
      ]
     },
     "metadata": {
      "needs_background": "light"
     },
     "output_type": "display_data"
    }
   ],
   "source": [
    "df.boxplot(by = 'autos_per_hh_nmi', column=['t_nmi'])\n",
    "plt.xlabel(\"Autos per Household\")\n",
    "plt.ylabel(\"Transportation Costs as % of Income\")"
   ]
  },
  {
   "cell_type": "code",
   "execution_count": 11,
   "metadata": {},
   "outputs": [
    {
     "ename": "SyntaxError",
     "evalue": "cannot assign to literal (<ipython-input-11-bb5ce7eaa477>, line 5)",
     "output_type": "error",
     "traceback": [
      "\u001b[0;36m  File \u001b[0;32m\"<ipython-input-11-bb5ce7eaa477>\"\u001b[0;36m, line \u001b[0;32m5\u001b[0m\n\u001b[0;31m    x = 'transit_cost_ami', data = df\u001b[0m\n\u001b[0m        ^\u001b[0m\n\u001b[0;31mSyntaxError\u001b[0m\u001b[0;31m:\u001b[0m cannot assign to literal\n"
     ]
    }
   ],
   "source": [
    "plt.scatter('transit_cost_ami', 'autos_per_hh_ami', data = df)\n",
    "plt.xlabel('Annual Transit Cost for Household')\n",
    "plt.ylabel('Automobiles per Household')"
   ]
  },
  {
   "cell_type": "code",
   "execution_count": 52,
   "metadata": {},
   "outputs": [
    {
     "data": {
      "text/plain": [
       "Text(0, 0.5, 'Automobiles per Household')"
      ]
     },
     "execution_count": 52,
     "metadata": {},
     "output_type": "execute_result"
    },
    {
     "data": {
      "image/png": "[encoded data removed]",
      "text/plain": [
       "<Figure size 432x288 with 1 Axes>"
      ]
     },
     "metadata": {
      "needs_background": "light"
     },
     "output_type": "display_data"
    }
   ],
   "source": [
    "x = df.loc[:, 'transit_cost_ami']\n",
    "y = df.loc[:, 'autos_per_hh_ami']\n",
    "\n",
    "sns.regplot(x, y, color = 'green', line_kws = {'color': 'red'})\n",
    "plt.xlabel('Annual Transit Cost for Household')\n",
    "plt.ylabel('Automobiles per Household')"
   ]
  },
  {
   "cell_type": "code",
   "execution_count": null,
   "metadata": {},
   "outputs": [],
   "source": []
  }
 ],
 "metadata": {
  "kernelspec": {
   "display_name": "Python 3",
   "language": "python",
   "name": "python3"
  },
  "language_info": {
   "codemirror_mode": {
    "name": "ipython",
    "version": 3
   },
   "file_extension": ".py",
   "mimetype": "text/x-python",
   "name": "python",
   "nbconvert_exporter": "python",
   "pygments_lexer": "ipython3",
   "version": "3.8.3"
  }
 },
 "nbformat": 4,
 "nbformat_minor": 4
}
